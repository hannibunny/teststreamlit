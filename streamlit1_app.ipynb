{
 "cells": [
  {
   "cell_type": "code",
   "execution_count": 6,
   "id": "fd8c7539-8846-41f0-9481-24736ee5ffe7",
   "metadata": {},
   "outputs": [],
   "source": [
    "#!pip install streamlit\n",
    "##!pip install yfinance"
   ]
  },
  {
   "cell_type": "code",
   "execution_count": 1,
   "id": "684274fe-0655-4203-a33d-3669bfb7b3b2",
   "metadata": {},
   "outputs": [
    {
     "name": "stdout",
     "output_type": "stream",
     "text": [
      "Writing app.py\n"
     ]
    }
   ],
   "source": [
    "%%writefile app.py\n",
    "import streamlit as st\n",
    "import yfinance as yf\n",
    "import pandas as pd\n",
    "import datetime\n",
    "\n",
    "def get_stock_data(symbol, period=\"1y\"):\n",
    "    stock = yf.Ticker(symbol)\n",
    "    df = stock.history(period=period)\n",
    "    return df, stock.info\n",
    "\n",
    "def plot_stock_data(df):\n",
    "    st.line_chart(df['Close'], width=0, height=0, use_container_width=True)\n",
    "    st.bar_chart(df['Volume'], width=0, height=0, use_container_width=True)\n",
    "\n",
    "def plot_moving_averages(df):\n",
    "    df['20d MA'] = df['Close'].rolling(window=20).mean()\n",
    "    df['50d MA'] = df['Close'].rolling(window=50).mean()\n",
    "    st.line_chart(df[['Close', '20d MA', '50d MA']], width=0, height=0, use_container_width=True)\n",
    "\n",
    "st.title(\"Visualizing Stock Data\")\n",
    "\n",
    "# Input field for stock symbol\n",
    "stock_symbol = st.text_input(\"Enter stock symbol\", value=\"NVDA\").upper()\n",
    "\n",
    "# Fetch stock data\n",
    "df, stock_info = get_stock_data(stock_symbol)\n",
    "\n",
    "# Display company name and current price\n",
    "st.markdown(f\"**{stock_info['longName']}**\")\n",
    "st.markdown(f\"**Current Price: ${stock_info['currentPrice']}**\")\n",
    "\n",
    "# Display stock data charts\n",
    "st.subheader(\"Closing Prices\")\n",
    "plot_stock_data(df)\n",
    "\n",
    "st.subheader(\"Volume of Trades\")\n",
    "plot_stock_data(df)\n",
    "\n",
    "st.subheader(\"Closing Price and Moving Averages\")\n",
    "plot_moving_averages(df)\n"
   ]
  },
  {
   "cell_type": "code",
   "execution_count": null,
   "id": "c661c39d-4609-4d90-8175-d96d57d09d74",
   "metadata": {},
   "outputs": [],
   "source": []
  }
 ],
 "metadata": {
  "kernelspec": {
   "display_name": "Python 3 (ipykernel)",
   "language": "python",
   "name": "python3"
  },
  "language_info": {
   "codemirror_mode": {
    "name": "ipython",
    "version": 3
   },
   "file_extension": ".py",
   "mimetype": "text/x-python",
   "name": "python",
   "nbconvert_exporter": "python",
   "pygments_lexer": "ipython3",
   "version": "3.11.5"
  }
 },
 "nbformat": 4,
 "nbformat_minor": 5
}
